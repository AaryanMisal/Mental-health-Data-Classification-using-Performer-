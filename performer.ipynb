{
  "cells": [
    {
      "cell_type": "code",
      "execution_count": null,
      "metadata": {
        "colab": {
          "base_uri": "https://localhost:8080/"
        },
        "id": "iH4qQQGrWDma",
        "outputId": "21409874-8bcd-49ff-ae99-9b21d09e51d1"
      },
      "outputs": [
        {
          "output_type": "stream",
          "name": "stdout",
          "text": [
            "Requirement already satisfied: pip in /usr/local/lib/python3.11/dist-packages (25.1.1)\n",
            "Requirement already satisfied: setuptools in /usr/local/lib/python3.11/dist-packages (80.3.1)\n",
            "Requirement already satisfied: wheel in /usr/local/lib/python3.11/dist-packages (0.45.1)\n"
          ]
        }
      ],
      "source": [
        "!pip install --upgrade pip setuptools wheel"
      ]
    },
    {
      "cell_type": "code",
      "source": [
        "#%% Environment Setup\n",
        "%pip install torch transformers datasets opacus scikit-learn pandas requests tqdm\n",
        "%pip install transformers==4.20.0  # Version with FNet support\n",
        "%pip install sentencepiece\n",
        "%pip install performer-pytorch opacus transformers pandas torch\n",
        "%pip install pandas"
      ],
      "metadata": {
        "id": "JdhhLa43aVg9"
      },
      "execution_count": null,
      "outputs": []
    },
    {
      "cell_type": "code",
      "execution_count": null,
      "metadata": {
        "id": "mTLHn9OdWDmc"
      },
      "outputs": [],
      "source": [
        "import pandas as pd\n",
        "import torch\n",
        "import torch.nn as nn\n",
        "from torch.utils.data import Dataset, DataLoader\n",
        "from transformers import AutoTokenizer, BertTokenizer\n",
        "from performer_pytorch import PerformerLM\n",
        "from opacus import PrivacyEngine\n",
        "from sklearn.model_selection import train_test_split\n",
        "from sklearn.metrics import accuracy_score, precision_recall_fscore_support\n",
        "import math\n",
        "from opacus import PrivacyEngine\n",
        "from opacus.validators import ModuleValidator"
      ]
    },
    {
      "cell_type": "code",
      "execution_count": null,
      "metadata": {
        "id": "Wggx64xwWDmc"
      },
      "outputs": [],
      "source": [
        "class Config:\n",
        "    vocab_size = 30522           # Using a standard BERT tokenizer vocabulary\n",
        "    hidden_size = 512            # Hidden dimension for the Performer\n",
        "    bert_hidden_size = 768       # (Likely unused by your Performer model)\n",
        "    num_hidden_layers = 6        # Number of Performer layers (adjust based on compute/data)\n",
        "    num_attention_heads = 8      # Number of attention heads\n",
        "    num_labels = 5               # 0: Stress, 1: Depression, 2: Bipolar, 3: Personality, 4: Anxiety\n",
        "    max_length = 128             # Maximum sequence length\n",
        "    batch_size = 32\n",
        "    bert_batch_size = 16         # (Tokenizer batching parameter)\n",
        "    learning_rate = 1e-4         # Standard learning rate\n",
        "    num_epochs = 50\n",
        "    target_epsilon = 2\n",
        "    target_delta = 1e-5\n",
        "    noise_multiplier = 0.00001\n",
        "    max_grad_norm = 1.0\n",
        "    # initializing the device to use GPU whenever available\n",
        "    device = torch.device(\"cuda\" if torch.cuda.is_available() else \"cpu\")"
      ]
    },
    {
      "cell_type": "code",
      "execution_count": null,
      "metadata": {
        "id": "IeUhtqXuWDmd"
      },
      "outputs": [],
      "source": [
        "# This is a class representing our reddit mental health dataset\n",
        "class RedditMentalHealthDataset(Dataset):\n",
        "    def __init__(self, dataframe, tokenizer, max_length):\n",
        "        self.df = dataframe\n",
        "        self.tokenizer = tokenizer\n",
        "        self.max_length = max_length\n",
        "\n",
        "    def __len__(self):\n",
        "        return len(self.df)\n",
        "\n",
        "    def __getitem__(self, idx):\n",
        "        row = self.df.iloc[idx]\n",
        "        # Combine title and text for the model input\n",
        "        combined_text = str(row['title']) + \" \" + str(row['text'])\n",
        "        label = int(row['target'])\n",
        "        encoding = self.tokenizer(\n",
        "            combined_text,\n",
        "            truncation=True,\n",
        "            padding='max_length',\n",
        "            max_length=self.max_length,\n",
        "            return_tensors=\"pt\"\n",
        "        )\n",
        "        item = {key: val.squeeze(0) for key, val in encoding.items()}\n",
        "        item['labels'] = torch.tensor(label, dtype=torch.long)\n",
        "        return item"
      ]
    },
    {
      "cell_type": "code",
      "execution_count": null,
      "metadata": {
        "id": "LP0AbyTHWDmd"
      },
      "outputs": [],
      "source": [
        "from performer_pytorch import Performer\n",
        "class PerformerForClassification(nn.Module):\n",
        "    def __init__(self, vocab_size, hidden_size, num_layers, num_heads, num_labels, max_length, dropout=0.1):\n",
        "        super().__init__()\n",
        "        self.embedding = nn.Embedding(vocab_size, hidden_size)\n",
        "        pe = self._build_sinusoidal_embedding(max_length, hidden_size)\n",
        "        self.register_buffer(\"pos_emb\", pe)\n",
        "\n",
        "        dim_head = hidden_size // num_heads\n",
        "        self.encoder = Performer( dim=hidden_size, depth=num_layers, heads=num_heads, dim_head=dim_head, causal=False)\n",
        "        self.dropout = nn.Dropout(dropout)\n",
        "        self.classifier = nn.Linear(hidden_size, num_labels)\n",
        "\n",
        "    def _build_sinusoidal_embedding(self, max_len, d_model):\n",
        "        pe = torch.zeros(max_len, d_model)\n",
        "        position = torch.arange(0, max_len, dtype=torch.float).unsqueeze(1)\n",
        "        div_term = torch.exp(\n",
        "            torch.arange(0, d_model, 2).float() * -(math.log(10000.0) / d_model)\n",
        "        )\n",
        "        pe[:, 0::2] = torch.sin(position * div_term)\n",
        "        pe[:, 1::2] = torch.cos(position * div_term)\n",
        "        return pe.unsqueeze(0)\n",
        "\n",
        "    def forward(self, input_ids, attention_mask= None):\n",
        "        x = self.embedding(input_ids)                               # the token embeddings\n",
        "        pe = self.pos_emb[:, : x.size(1), :]                        # perform positional embeddings\n",
        "        x += pe                                                     # Add positional embeddings to the token embeddings\n",
        "        if attention_mask is not None:\n",
        "            x = x * attention_mask.unsqueeze(-1)\n",
        "        h = self.encoder(x)                                         # passing through the encoder\n",
        "        output = self.dropout(h[:, 0, :])                           # performing dropout\n",
        "        return self.classifier(output)                              # getting the logits\n"
      ]
    },
    {
      "cell_type": "code",
      "execution_count": null,
      "metadata": {
        "id": "fLoWx3HjWDme"
      },
      "outputs": [],
      "source": [
        "df = pd.read_csv(\"data_to_be_cleansed.csv\")                                                                   # the reddit mental health dataset\n",
        "\n",
        "train_df, test_df = train_test_split(df, test_size = 0.2, stratify = df['target'])                            # train-test split on our dataset\n",
        "tokenizer = AutoTokenizer.from_pretrained(\"bert-base-uncased\")                                                # tokenizier for our dataset\n",
        "train_dataset = RedditMentalHealthDataset(train_df, tokenizer, Config.max_length)\n",
        "test_dataset = RedditMentalHealthDataset(test_df, tokenizer, Config.max_length)\n",
        "train_dataloader = DataLoader(train_dataset, batch_size=Config.batch_size, shuffle=True, drop_last= True)     # pytorch dataloader for the training dataset\n",
        "test_dataloader = DataLoader(test_dataset, batch_size=Config.batch_size)                                      # pytorch dataloader for the testing dataset"
      ]
    },
    {
      "cell_type": "code",
      "execution_count": null,
      "metadata": {
        "colab": {
          "base_uri": "https://localhost:8080/"
        },
        "id": "xRWNKX8NWDme",
        "outputId": "a54e7e9d-f861-4043-b179-dd6e8fb7bd24"
      },
      "outputs": [
        {
          "output_type": "execute_result",
          "data": {
            "text/plain": [
              "PerformerForClassification(\n",
              "  (embedding): Embedding(30522, 512)\n",
              "  (encoder): Performer(\n",
              "    (net): SequentialSequence(\n",
              "      (layers): ModuleList(\n",
              "        (0-5): 6 x ModuleList(\n",
              "          (0): PreLayerNorm(\n",
              "            (norm): LayerNorm((512,), eps=1e-05, elementwise_affine=True)\n",
              "            (fn): SelfAttention(\n",
              "              (fast_attention): FastAttention(\n",
              "                (kernel_fn): ReLU()\n",
              "              )\n",
              "              (to_q): Linear(in_features=512, out_features=512, bias=True)\n",
              "              (to_k): Linear(in_features=512, out_features=512, bias=True)\n",
              "              (to_v): Linear(in_features=512, out_features=512, bias=True)\n",
              "              (to_out): Linear(in_features=512, out_features=512, bias=True)\n",
              "              (dropout): Dropout(p=0.0, inplace=False)\n",
              "            )\n",
              "          )\n",
              "          (1): PreLayerNorm(\n",
              "            (norm): LayerNorm((512,), eps=1e-05, elementwise_affine=True)\n",
              "            (fn): Chunk(\n",
              "              (fn): FeedForward(\n",
              "                (w1): Linear(in_features=512, out_features=2048, bias=True)\n",
              "                (act): GELU(approximate='none')\n",
              "                (dropout): Dropout(p=0.0, inplace=False)\n",
              "                (w2): Linear(in_features=2048, out_features=512, bias=True)\n",
              "              )\n",
              "            )\n",
              "          )\n",
              "        )\n",
              "      )\n",
              "    )\n",
              "    (proj_updater): ProjectionUpdater(\n",
              "      (instance): SequentialSequence(\n",
              "        (layers): ModuleList(\n",
              "          (0-5): 6 x ModuleList(\n",
              "            (0): PreLayerNorm(\n",
              "              (norm): LayerNorm((512,), eps=1e-05, elementwise_affine=True)\n",
              "              (fn): SelfAttention(\n",
              "                (fast_attention): FastAttention(\n",
              "                  (kernel_fn): ReLU()\n",
              "                )\n",
              "                (to_q): Linear(in_features=512, out_features=512, bias=True)\n",
              "                (to_k): Linear(in_features=512, out_features=512, bias=True)\n",
              "                (to_v): Linear(in_features=512, out_features=512, bias=True)\n",
              "                (to_out): Linear(in_features=512, out_features=512, bias=True)\n",
              "                (dropout): Dropout(p=0.0, inplace=False)\n",
              "              )\n",
              "            )\n",
              "            (1): PreLayerNorm(\n",
              "              (norm): LayerNorm((512,), eps=1e-05, elementwise_affine=True)\n",
              "              (fn): Chunk(\n",
              "                (fn): FeedForward(\n",
              "                  (w1): Linear(in_features=512, out_features=2048, bias=True)\n",
              "                  (act): GELU(approximate='none')\n",
              "                  (dropout): Dropout(p=0.0, inplace=False)\n",
              "                  (w2): Linear(in_features=2048, out_features=512, bias=True)\n",
              "                )\n",
              "              )\n",
              "            )\n",
              "          )\n",
              "        )\n",
              "      )\n",
              "    )\n",
              "  )\n",
              "  (dropout): Dropout(p=0.1, inplace=False)\n",
              "  (classifier): Linear(in_features=512, out_features=5, bias=True)\n",
              ")"
            ]
          },
          "metadata": {},
          "execution_count": 70
        }
      ],
      "source": [
        "# Instantiate the Performer model for classification with configuration parameters\n",
        "model = PerformerForClassification(\n",
        "    vocab_size=Config.vocab_size,            # Size of the input vocabulary\n",
        "    hidden_size=Config.hidden_size,          # Hidden dimension size of the model\n",
        "    num_layers=Config.num_hidden_layers,     # Number of encoder hidden layers\n",
        "    num_heads=Config.num_attention_heads,    # Number of attention heads\n",
        "    num_labels=Config.num_labels,            # Number of labels our dataset\n",
        "    max_length = Config.max_length,          # maximum sequenxce length\n",
        "    dropout=0.1                              # dropout value\n",
        ")\n",
        "model.to(Config.device)                      # Putting the model on GPU"
      ]
    },
    {
      "cell_type": "code",
      "execution_count": null,
      "metadata": {
        "colab": {
          "base_uri": "https://localhost:8080/"
        },
        "id": "GLEBStGiWDmf",
        "outputId": "2df7e0b5-3ca4-4ed8-a853-652d9d438cfd"
      },
      "outputs": [
        {
          "output_type": "stream",
          "name": "stderr",
          "text": [
            "/usr/local/lib/python3.11/dist-packages/opacus/privacy_engine.py:96: UserWarning: Secure RNG turned off. This is perfectly fine for experimentation as it allows for much faster training performance, but remember to turn it on and retrain one last time before production with ``secure_mode`` turned on.\n",
            "  warnings.warn(\n",
            "WARNING:opacus.data_loader:Ignoring drop_last as it is not compatible with DPDataLoader.\n"
          ]
        }
      ],
      "source": [
        "# Validate and fix model for Differential privacy\n",
        "model = ModuleValidator.fix(model)\n",
        "ModuleValidator.validate(model, strict=False)\n",
        "\n",
        "# Optimizer\n",
        "optimizer = torch.optim.AdamW(model.parameters(), lr=Config.learning_rate)\n",
        "\n",
        "# DP-compatible model, optimizer, DataLoader\n",
        "privacy_engine = PrivacyEngine()\n",
        "model, optimizer, train_dataloader = privacy_engine.make_private(\n",
        "    module=model,\n",
        "    optimizer=optimizer,\n",
        "    data_loader=train_dataloader,\n",
        "    noise_multiplier=Config.noise_multiplier,\n",
        "    max_grad_norm=Config.max_grad_norm\n",
        ")"
      ]
    },
    {
      "cell_type": "code",
      "execution_count": null,
      "metadata": {
        "colab": {
          "base_uri": "https://localhost:8080/",
          "height": 540
        },
        "id": "GsBZSN5yWDmf",
        "outputId": "18be61c0-2051-4c3a-9bb8-cc2f18f65c78"
      },
      "outputs": [
        {
          "metadata": {
            "tags": null
          },
          "name": "stderr",
          "output_type": "stream",
          "text": [
            "/usr/local/lib/python3.11/dist-packages/torch/nn/modules/module.py:1830: FutureWarning: Using a non-full backward hook when the forward contains multiple autograd Nodes is deprecated and will be removed in future versions. This hook will be missing some grad_input. Please use register_full_backward_hook to get the documented behavior.\n",
            "  self._maybe_warn_non_full_backward_hook(args, result, grad_fn)\n"
          ]
        },
        {
          "output_type": "stream",
          "name": "stdout",
          "text": [
            "Epoch 1 Loss: 1.7326\n",
            "Epoch 2 Loss: 1.8369\n",
            "Epoch 3 Loss: 1.9963\n",
            "Epoch 4 Loss: 1.7804\n",
            "Epoch 5 Loss: 1.6978\n",
            "Epoch 6 Loss: 1.6324\n",
            "Epoch 7 Loss: 1.5700\n",
            "Epoch 8 Loss: 1.5306\n"
          ]
        },
        {
          "output_type": "error",
          "ename": "KeyboardInterrupt",
          "evalue": "",
          "traceback": [
            "\u001b[0;31m---------------------------------------------------------------------------\u001b[0m",
            "\u001b[0;31mKeyboardInterrupt\u001b[0m                         Traceback (most recent call last)",
            "\u001b[0;32m<ipython-input-69-f2fc84b134c6>\u001b[0m in \u001b[0;36m<cell line: 0>\u001b[0;34m()\u001b[0m\n\u001b[1;32m     14\u001b[0m         \u001b[0mloss_count\u001b[0m \u001b[0;34m+=\u001b[0m \u001b[0mloss\u001b[0m\u001b[0;34m.\u001b[0m\u001b[0mitem\u001b[0m\u001b[0;34m(\u001b[0m\u001b[0;34m)\u001b[0m \u001b[0;34m*\u001b[0m \u001b[0minput_ids\u001b[0m\u001b[0;34m.\u001b[0m\u001b[0msize\u001b[0m\u001b[0;34m(\u001b[0m\u001b[0;36m0\u001b[0m\u001b[0;34m)\u001b[0m\u001b[0;34m\u001b[0m\u001b[0;34m\u001b[0m\u001b[0m\n\u001b[1;32m     15\u001b[0m         \u001b[0mtotal_samples\u001b[0m \u001b[0;34m+=\u001b[0m \u001b[0minput_ids\u001b[0m\u001b[0;34m.\u001b[0m\u001b[0msize\u001b[0m\u001b[0;34m(\u001b[0m\u001b[0;36m0\u001b[0m\u001b[0;34m)\u001b[0m\u001b[0;34m\u001b[0m\u001b[0;34m\u001b[0m\u001b[0m\n\u001b[0;32m---> 16\u001b[0;31m         \u001b[0mloss\u001b[0m\u001b[0;34m.\u001b[0m\u001b[0mbackward\u001b[0m\u001b[0;34m(\u001b[0m\u001b[0;34m)\u001b[0m\u001b[0;34m\u001b[0m\u001b[0;34m\u001b[0m\u001b[0m\n\u001b[0m\u001b[1;32m     17\u001b[0m         \u001b[0moptimizer\u001b[0m\u001b[0;34m.\u001b[0m\u001b[0mstep\u001b[0m\u001b[0;34m(\u001b[0m\u001b[0;34m)\u001b[0m\u001b[0;34m\u001b[0m\u001b[0;34m\u001b[0m\u001b[0m\n\u001b[1;32m     18\u001b[0m     \u001b[0mloss_val\u001b[0m \u001b[0;34m=\u001b[0m \u001b[0mloss_count\u001b[0m \u001b[0;34m/\u001b[0m \u001b[0mtotal_samples\u001b[0m\u001b[0;34m\u001b[0m\u001b[0;34m\u001b[0m\u001b[0m\n",
            "\u001b[0;32m/usr/local/lib/python3.11/dist-packages/torch/_tensor.py\u001b[0m in \u001b[0;36mbackward\u001b[0;34m(self, gradient, retain_graph, create_graph, inputs)\u001b[0m\n\u001b[1;32m    624\u001b[0m                 \u001b[0minputs\u001b[0m\u001b[0;34m=\u001b[0m\u001b[0minputs\u001b[0m\u001b[0;34m,\u001b[0m\u001b[0;34m\u001b[0m\u001b[0;34m\u001b[0m\u001b[0m\n\u001b[1;32m    625\u001b[0m             )\n\u001b[0;32m--> 626\u001b[0;31m         torch.autograd.backward(\n\u001b[0m\u001b[1;32m    627\u001b[0m             \u001b[0mself\u001b[0m\u001b[0;34m,\u001b[0m \u001b[0mgradient\u001b[0m\u001b[0;34m,\u001b[0m \u001b[0mretain_graph\u001b[0m\u001b[0;34m,\u001b[0m \u001b[0mcreate_graph\u001b[0m\u001b[0;34m,\u001b[0m \u001b[0minputs\u001b[0m\u001b[0;34m=\u001b[0m\u001b[0minputs\u001b[0m\u001b[0;34m\u001b[0m\u001b[0;34m\u001b[0m\u001b[0m\n\u001b[1;32m    628\u001b[0m         )\n",
            "\u001b[0;32m/usr/local/lib/python3.11/dist-packages/torch/autograd/__init__.py\u001b[0m in \u001b[0;36mbackward\u001b[0;34m(tensors, grad_tensors, retain_graph, create_graph, grad_variables, inputs)\u001b[0m\n\u001b[1;32m    345\u001b[0m     \u001b[0;31m# some Python versions print out the first line of a multi-line function\u001b[0m\u001b[0;34m\u001b[0m\u001b[0;34m\u001b[0m\u001b[0m\n\u001b[1;32m    346\u001b[0m     \u001b[0;31m# calls in the traceback and some print out the last line\u001b[0m\u001b[0;34m\u001b[0m\u001b[0;34m\u001b[0m\u001b[0m\n\u001b[0;32m--> 347\u001b[0;31m     _engine_run_backward(\n\u001b[0m\u001b[1;32m    348\u001b[0m         \u001b[0mtensors\u001b[0m\u001b[0;34m,\u001b[0m\u001b[0;34m\u001b[0m\u001b[0;34m\u001b[0m\u001b[0m\n\u001b[1;32m    349\u001b[0m         \u001b[0mgrad_tensors_\u001b[0m\u001b[0;34m,\u001b[0m\u001b[0;34m\u001b[0m\u001b[0;34m\u001b[0m\u001b[0m\n",
            "\u001b[0;32m/usr/local/lib/python3.11/dist-packages/torch/autograd/graph.py\u001b[0m in \u001b[0;36m_engine_run_backward\u001b[0;34m(t_outputs, *args, **kwargs)\u001b[0m\n\u001b[1;32m    821\u001b[0m         \u001b[0munregister_hooks\u001b[0m \u001b[0;34m=\u001b[0m \u001b[0m_register_logging_hooks_on_whole_graph\u001b[0m\u001b[0;34m(\u001b[0m\u001b[0mt_outputs\u001b[0m\u001b[0;34m)\u001b[0m\u001b[0;34m\u001b[0m\u001b[0;34m\u001b[0m\u001b[0m\n\u001b[1;32m    822\u001b[0m     \u001b[0;32mtry\u001b[0m\u001b[0;34m:\u001b[0m\u001b[0;34m\u001b[0m\u001b[0;34m\u001b[0m\u001b[0m\n\u001b[0;32m--> 823\u001b[0;31m         return Variable._execution_engine.run_backward(  # Calls into the C++ engine to run the backward pass\n\u001b[0m\u001b[1;32m    824\u001b[0m             \u001b[0mt_outputs\u001b[0m\u001b[0;34m,\u001b[0m \u001b[0;34m*\u001b[0m\u001b[0margs\u001b[0m\u001b[0;34m,\u001b[0m \u001b[0;34m**\u001b[0m\u001b[0mkwargs\u001b[0m\u001b[0;34m\u001b[0m\u001b[0;34m\u001b[0m\u001b[0m\n\u001b[1;32m    825\u001b[0m         )  # Calls into the C++ engine to run the backward pass\n",
            "\u001b[0;31mKeyboardInterrupt\u001b[0m: "
          ]
        }
      ],
      "source": [
        "# Training Loop with Differential Privacy\n",
        "model.train()\n",
        "total_losses = []\n",
        "for epoch in range(Config.num_epochs):\n",
        "    loss_count = 0\n",
        "    total_samples = 0\n",
        "    for batch in train_dataloader:\n",
        "        optimizer.zero_grad()\n",
        "        # Extract inputs and labels from the batch\n",
        "        input_ids = batch[\"input_ids\"]\n",
        "        attention_mask = batch[\"attention_mask\"]\n",
        "        labels = batch[\"labels\"]\n",
        "        # Forward pass to get the logits\n",
        "        logits = model(input_ids.to(Config.device), attention_mask.to(Config.device))\n",
        "        # calculating loss using cross entropy loss\n",
        "        loss = nn.CrossEntropyLoss()(logits, labels.to(Config.device))\n",
        "        # Accumulate total loss scaled by batch size for averaging later\n",
        "        loss_count += loss.item() * input_ids.size(0)\n",
        "        total_samples += input_ids.size(0)\n",
        "        # performing backpropogation\n",
        "        loss.backward()\n",
        "        # gradient update step\n",
        "        optimizer.step()\n",
        "    # Calculating epoch loss\n",
        "    loss_val = loss_count / total_samples\n",
        "    # Calculating total loss across all epochs\n",
        "    total_losses.append(loss_val)\n",
        "    print(f\"Epoch {epoch+1} Loss: {loss_val:.4f}\")"
      ]
    },
    {
      "cell_type": "code",
      "execution_count": null,
      "metadata": {
        "id": "riPyppStJiDH"
      },
      "outputs": [],
      "source": [
        "# visualising the performer loss vs the epoch during training\n",
        "import matplotlib.pyplot as plt\n",
        "\n",
        "plt.figure()\n",
        "plt.plot(total_losses)\n",
        "plt.title(\"Performer Losses\")\n",
        "plt.xlabel(\"epoch\")\n",
        "plt.ylabel(\"losses\")\n",
        "plt.legend()\n",
        "plt.show()"
      ]
    },
    {
      "cell_type": "code",
      "execution_count": null,
      "metadata": {
        "id": "cck1Tm3ZfAYP"
      },
      "outputs": [],
      "source": [
        "# testing the model performance\n",
        "def evaluate(model, test_dataloader):\n",
        "    model.eval()\n",
        "    criterion = nn.CrossEntropyLoss()\n",
        "\n",
        "    total_preds = []\n",
        "    total_labels = []\n",
        "    total_loss = 0\n",
        "    num_batches = 0\n",
        "\n",
        "    with torch.no_grad():\n",
        "        for batch in test_dataloader:\n",
        "          input_ids = batch[\"input_ids\"].to(Config.device)\n",
        "          attention_mask = batch[\"attention_mask\"].to(Config.device)\n",
        "          labels = batch[\"labels\"].to(Config.device)\n",
        "\n",
        "          logits = model(input_ids, attention_mask)\n",
        "          loss = criterion(logits, labels)\n",
        "          total_loss += loss.item()\n",
        "          num_batches += 1\n",
        "          preds = logits.argmax(dim=-1)\n",
        "          total_preds.append(preds.cpu())\n",
        "          total_labels.append(labels.cpu())\n",
        "\n",
        "    total_preds = torch.cat(total_preds).numpy()\n",
        "    total_labels = torch.cat(total_labels).numpy()\n",
        "\n",
        "    avg_loss = total_loss / num_batches\n",
        "    accuracy = accuracy_score(total_labels, total_preds)\n",
        "    precision, recall, f1, _ = precision_recall_fscore_support(total_labels, total_preds, average='weighted', zero_division=0)\n",
        "\n",
        "    return avg_loss, accuracy, precision, recall, f1"
      ]
    },
    {
      "cell_type": "code",
      "execution_count": null,
      "metadata": {
        "colab": {
          "base_uri": "https://localhost:8080/"
        },
        "id": "G_jPJmZ97ofQ",
        "outputId": "06e50b06-ce51-40b4-b8a6-7b0f716a6e1a"
      },
      "outputs": [
        {
          "output_type": "stream",
          "name": "stdout",
          "text": [
            "Test loss:      3.0671\n",
            "Test accuracy:  75.0839%\n",
            "Test precision: 77.3396%\n",
            "Test recall:    75.0839%\n",
            "Test F1:        75.3921%\n"
          ]
        }
      ],
      "source": [
        "#printing the evaluation metrics\n",
        "avg_loss, accuracy, precision, recall, f1 = evaluate(model, test_dataloader)\n",
        "print(f\"Test loss:      {avg_loss:.4f}\")\n",
        "print(f\"Test accuracy:  {accuracy:.4%}\")\n",
        "print(f\"Test precision: {precision:.4%}\")\n",
        "print(f\"Test recall:    {recall:.4%}\")\n",
        "print(f\"Test F1:        {f1:.4%}\")"
      ]
    },
    {
      "cell_type": "code",
      "execution_count": null,
      "metadata": {
        "id": "eju8v02fRj4H"
      },
      "outputs": [],
      "source": [
        "# Drfining the model class\n",
        "class TransformerForClassification(nn.Module):\n",
        "    def __init__(self, vocab_size, hidden_size, num_layers, num_heads, num_labels, max_length, dropout = 0.1):\n",
        "        super().__init__()\n",
        "        self.embedding = nn.Embedding(vocab_size, hidden_size)\n",
        "        pe = self._build_sinusoidal_embedding(max_length, hidden_size)\n",
        "        self.register_buffer(\"pos_emb\", pe)\n",
        "        encoder_layer = nn.TransformerEncoderLayer(d_model=hidden_size,nhead=num_heads,dim_feedforward=4 * hidden_size,dropout=dropout,activation=\"gelu\")\n",
        "        self.encoder = nn.TransformerEncoder(encoder_layer, num_layers)\n",
        "        self.dropout = nn.Dropout(dropout)\n",
        "        self.classifier = nn.Linear(hidden_size, num_labels)\n",
        "\n",
        "    def _build_sinusoidal_embedding(self, max_len, d_model):\n",
        "        pe = torch.zeros(max_len, d_model)\n",
        "        position = torch.arange(0, max_len, dtype=torch.float).unsqueeze(1)\n",
        "        div_term = torch.exp(torch.arange(0, d_model, 2, dtype=torch.float) * -(math.log(10000.0) / d_model))\n",
        "        pe[:, 0::2] = torch.sin(position * div_term)\n",
        "        pe[:, 1::2] = torch.cos(position * div_term)\n",
        "        return pe.unsqueeze(0)\n",
        "\n",
        "# Forward function\n",
        "    def forward(self, input_ids, attention_mask):\n",
        "\n",
        "        x = self.embedding(input_ids)\n",
        "        pe = self.pos_emb[:, : x.size(1), :]\n",
        "        x += pe\n",
        "        if attention_mask is not None:\n",
        "            x = x * attention_mask.unsqueeze(-1)\n",
        "        h = self.encoder(x)\n",
        "        output = self.dropout(h[:, 0, :])\n",
        "        return self.classifier(output)\n"
      ]
    },
    {
      "cell_type": "code",
      "execution_count": null,
      "metadata": {
        "id": "bAq8hkh9ilnJ"
      },
      "outputs": [],
      "source": [
        "# Tokenising and creating the train and test dataloader\n",
        "train_df, test_df = train_test_split(df, test_size = 0.2, stratify = df['target'])\n",
        "transformer_tokenizer = AutoTokenizer.from_pretrained(\"bert-base-uncased\")\n",
        "transformer_train_dataset = RedditMentalHealthDataset(train_df, transformer_tokenizer, Config.max_length)\n",
        "transformer_test_dataset = RedditMentalHealthDataset(test_df, transformer_tokenizer, Config.max_length)\n",
        "transformer_train_dataloader = DataLoader(transformer_train_dataset, batch_size=Config.batch_size, shuffle=True, drop_last= True)\n",
        "transformer_test_dataloader = DataLoader(transformer_test_dataset, batch_size=Config.batch_size)"
      ]
    },
    {
      "cell_type": "code",
      "execution_count": null,
      "metadata": {
        "colab": {
          "base_uri": "https://localhost:8080/"
        },
        "id": "wyN2RB3r4rNR",
        "outputId": "64257dc8-dba6-4499-a44d-0137fddc29cf"
      },
      "outputs": [
        {
          "output_type": "stream",
          "name": "stderr",
          "text": [
            "/usr/local/lib/python3.11/dist-packages/torch/nn/modules/transformer.py:385: UserWarning: enable_nested_tensor is True, but self.use_nested_tensor is False because encoder_layer.self_attn.batch_first was not True(use batch_first for better inference performance)\n",
            "  warnings.warn(\n"
          ]
        },
        {
          "output_type": "execute_result",
          "data": {
            "text/plain": [
              "TransformerForClassification(\n",
              "  (embedding): Embedding(30522, 512)\n",
              "  (encoder): TransformerEncoder(\n",
              "    (layers): ModuleList(\n",
              "      (0-5): 6 x TransformerEncoderLayer(\n",
              "        (self_attn): MultiheadAttention(\n",
              "          (out_proj): NonDynamicallyQuantizableLinear(in_features=512, out_features=512, bias=True)\n",
              "        )\n",
              "        (linear1): Linear(in_features=512, out_features=2048, bias=True)\n",
              "        (dropout): Dropout(p=0.1, inplace=False)\n",
              "        (linear2): Linear(in_features=2048, out_features=512, bias=True)\n",
              "        (norm1): LayerNorm((512,), eps=1e-05, elementwise_affine=True)\n",
              "        (norm2): LayerNorm((512,), eps=1e-05, elementwise_affine=True)\n",
              "        (dropout1): Dropout(p=0.1, inplace=False)\n",
              "        (dropout2): Dropout(p=0.1, inplace=False)\n",
              "      )\n",
              "    )\n",
              "  )\n",
              "  (dropout): Dropout(p=0.1, inplace=False)\n",
              "  (classifier): Linear(in_features=512, out_features=5, bias=True)\n",
              ")"
            ]
          },
          "metadata": {},
          "execution_count": 55
        }
      ],
      "source": [
        "# Instantiate the transformer model for classification with configuration parameters\n",
        "transformer_model = TransformerForClassification(\n",
        "    vocab_size=Config.vocab_size,              # Size of the input vocabulary\n",
        "    hidden_size=Config.hidden_size,            # Hidden dimension size of the model\n",
        "    num_layers=Config.num_hidden_layers,       # Number of transformer encoder layers\n",
        "    num_heads=Config.num_attention_heads,      # Number of attention heads in each layer\n",
        "    num_labels=Config.num_labels,              # Number of output classes for classification\n",
        "    max_length=Config.max_length,              # Maximum sequence length\n",
        "    dropout=0.1                                 # Dropout rate for regularization\n",
        ")\n",
        "\n",
        "# Move the model to the specified device (CPU or GPU)\n",
        "transformer_model.to(Config.device)"
      ]
    },
    {
      "cell_type": "code",
      "execution_count": null,
      "metadata": {
        "colab": {
          "base_uri": "https://localhost:8080/"
        },
        "id": "DneEQmmhjMZk",
        "outputId": "f00e3106-40a1-494a-e68f-61456ff00114"
      },
      "outputs": [
        {
          "output_type": "stream",
          "name": "stderr",
          "text": [
            "/usr/local/lib/python3.11/dist-packages/opacus/privacy_engine.py:96: UserWarning: Secure RNG turned off. This is perfectly fine for experimentation as it allows for much faster training performance, but remember to turn it on and retrain one last time before production with ``secure_mode`` turned on.\n",
            "  warnings.warn(\n",
            "WARNING:opacus.data_loader:Ignoring drop_last as it is not compatible with DPDataLoader.\n"
          ]
        }
      ],
      "source": [
        "# Validate/fix model for DP\n",
        "transformer_model = ModuleValidator.fix(transformer_model)\n",
        "ModuleValidator.validate(transformer_model, strict=False)\n",
        "\n",
        "# Optimizer\n",
        "transformer_optimizer = torch.optim.AdamW(transformer_model.parameters(), lr=Config.learning_rate)\n",
        "\n",
        "# DP-compatible model, optimizer and DataLoader\n",
        "privacy_engine = PrivacyEngine()\n",
        "transformer_model, transformer_optimizer, transformer_train_dataloader = privacy_engine.make_private(\n",
        "    module=transformer_model,\n",
        "    optimizer=transformer_optimizer,\n",
        "    data_loader=transformer_train_dataloader,\n",
        "    noise_multiplier=Config.noise_multiplier,\n",
        "    max_grad_norm=Config.max_grad_norm\n",
        ")"
      ]
    },
    {
      "cell_type": "code",
      "execution_count": null,
      "metadata": {
        "colab": {
          "base_uri": "https://localhost:8080/"
        },
        "id": "nmAXuFK2jebs",
        "outputId": "0a8e4d49-5f3f-4b54-996c-ad55c4563e65"
      },
      "outputs": [
        {
          "output_type": "stream",
          "name": "stdout",
          "text": [
            "Epoch 1 Loss: 1.6531\n",
            "Epoch 2 Loss: 1.6446\n",
            "Epoch 3 Loss: 1.6481\n",
            "Epoch 4 Loss: 1.6394\n",
            "Epoch 5 Loss: 1.6336\n",
            "Epoch 6 Loss: 1.6289\n",
            "Epoch 7 Loss: 1.6321\n",
            "Epoch 8 Loss: 1.6211\n",
            "Epoch 9 Loss: 1.6279\n",
            "Epoch 10 Loss: 1.6303\n",
            "Epoch 11 Loss: 1.6199\n",
            "Epoch 12 Loss: 1.6232\n",
            "Epoch 13 Loss: 1.6245\n",
            "Epoch 14 Loss: 1.6223\n",
            "Epoch 15 Loss: 1.6200\n",
            "Epoch 16 Loss: 1.6208\n",
            "Epoch 17 Loss: 1.6195\n",
            "Epoch 18 Loss: 1.6194\n",
            "Epoch 19 Loss: 1.6193\n",
            "Epoch 20 Loss: 1.6201\n",
            "Epoch 21 Loss: 1.6171\n",
            "Epoch 22 Loss: 1.6199\n",
            "Epoch 23 Loss: 1.6150\n",
            "Epoch 24 Loss: 1.6176\n",
            "Epoch 25 Loss: 1.6155\n",
            "Epoch 26 Loss: 1.6176\n",
            "Epoch 27 Loss: 1.6183\n",
            "Epoch 28 Loss: 1.6147\n",
            "Epoch 29 Loss: 1.6156\n",
            "Epoch 30 Loss: 1.6160\n",
            "Epoch 31 Loss: 1.6162\n",
            "Epoch 32 Loss: 1.6138\n",
            "Epoch 33 Loss: 1.6185\n",
            "Epoch 34 Loss: 1.6140\n",
            "Epoch 35 Loss: 1.6143\n",
            "Epoch 36 Loss: 1.6139\n",
            "Epoch 37 Loss: 1.6139\n",
            "Epoch 38 Loss: 1.6148\n",
            "Epoch 39 Loss: 1.6152\n",
            "Epoch 40 Loss: 1.6137\n",
            "Epoch 41 Loss: 1.6145\n",
            "Epoch 42 Loss: 1.6130\n",
            "Epoch 43 Loss: 1.6144\n",
            "Epoch 44 Loss: 1.6130\n",
            "Epoch 45 Loss: 1.6141\n",
            "Epoch 46 Loss: 1.6141\n",
            "Epoch 47 Loss: 1.6162\n",
            "Epoch 48 Loss: 1.6138\n",
            "Epoch 49 Loss: 1.6143\n",
            "Epoch 50 Loss: 1.6144\n"
          ]
        }
      ],
      "source": [
        "# Training Loop with Differential Privacy (DP not explicitly shown here, but assumed to be integrated elsewhere)\n",
        "transformer_model.train()  # Set the model to training mode\n",
        "total_losses = []  # List to keep track of average loss per epoch\n",
        "\n",
        "# Iterate over multiple epochs\n",
        "for epoch in range(Config.num_epochs):\n",
        "    loss_count = 0\n",
        "    total_samples = 0\n",
        "\n",
        "    # Loop through each batch in the training dataloader\n",
        "    for batch in transformer_train_dataloader:\n",
        "        transformer_optimizer.zero_grad()\n",
        "\n",
        "        # Extract inputs and labels from the batch\n",
        "        input_ids = batch[\"input_ids\"]\n",
        "        attention_mask = batch[\"attention_mask\"]\n",
        "        labels = batch[\"labels\"]\n",
        "\n",
        "        # Forward pass\n",
        "        logits = transformer_model(input_ids.to(Config.device), attention_mask.to(Config.device))\n",
        "\n",
        "        # Compute cross-entropy loss between logits and true labels\n",
        "        loss = nn.CrossEntropyLoss()(logits, labels.to(Config.device))\n",
        "\n",
        "        # Accumulate total loss scaled by batch size for averaging later\n",
        "        loss_count += loss.item() * input_ids.size(0)\n",
        "        total_samples += input_ids.size(0)  # Update number of processed samples\n",
        "\n",
        "        # Backward pass\n",
        "        loss.backward()\n",
        "\n",
        "        # Update model weights\n",
        "        transformer_optimizer.step()\n",
        "\n",
        "    # Calculate and store average loss for the epoch\n",
        "    loss_val = loss_count / total_samples\n",
        "    total_losses.append(loss_val)\n",
        "\n",
        "    # Print epoch-wise loss\n",
        "    print(f\"Epoch {epoch+1} Loss: {loss_val:.4f}\")"
      ]
    },
    {
      "cell_type": "code",
      "execution_count": null,
      "metadata": {
        "id": "xSmdF-BpkgkQ",
        "colab": {
          "base_uri": "https://localhost:8080/",
          "height": 526
        },
        "outputId": "3b8fa800-d83b-4c03-aa33-5610ec9e19b7"
      },
      "outputs": [
        {
          "output_type": "stream",
          "name": "stderr",
          "text": [
            "<ipython-input-60-e4f66a88b441>:8: UserWarning: No artists with labels found to put in legend.  Note that artists whose label start with an underscore are ignored when legend() is called with no argument.\n",
            "  plt.legend()\n"
          ]
        },
        {
          "output_type": "display_data",
          "data": {
            "text/plain": [
              "<Figure size 640x480 with 1 Axes>"
            ],
            "image/png": "[encoded data removed]"
          },
          "metadata": {}
        }
      ],
      "source": [
        "import matplotlib.pyplot as plt\n",
        "# Printing the loss curve of transformer\n",
        "plt.figure()\n",
        "plt.plot(total_losses)\n",
        "plt.title(\"transformer Losses\")\n",
        "plt.xlabel(\"epoch\")\n",
        "plt.ylabel(\"losses\")\n",
        "plt.legend()\n",
        "plt.show()"
      ]
    },
    {
      "cell_type": "code",
      "execution_count": null,
      "metadata": {
        "id": "fz0Lqa2Fkd47",
        "colab": {
          "base_uri": "https://localhost:8080/"
        },
        "outputId": "8f8964fe-a200-4e86-9ff6-c628acc8d7cb"
      },
      "outputs": [
        {
          "output_type": "stream",
          "name": "stdout",
          "text": [
            "Test loss:      1.6122\n",
            "Test accuracy:  20.2181%\n",
            "Test precision: 4.0877%\n",
            "Test recall:    20.2181%\n",
            "Test F1:        6.8005%\n"
          ]
        }
      ],
      "source": [
        "# Printing metrics in this cell\n",
        "avg_loss, accuracy, precision, recall, f1 = evaluate(transformer_model, transformer_test_dataloader)\n",
        "print(f\"Test loss:      {avg_loss:.4f}\")\n",
        "print(f\"Test accuracy:  {accuracy:.4%}\")\n",
        "print(f\"Test precision: {precision:.4%}\")\n",
        "print(f\"Test recall:    {recall:.4%}\")\n",
        "print(f\"Test F1:        {f1:.4%}\")"
      ]
    },
    {
      "cell_type": "code",
      "execution_count": null,
      "metadata": {
        "id": "DwMdHHzN7KDm"
      },
      "outputs": [],
      "source": []
    }
  ],
  "metadata": {
    "accelerator": "GPU",
    "colab": {
      "gpuType": "A100",
      "machine_shape": "hm",
      "provenance": []
    },
    "kernelspec": {
      "display_name": "Python 3",
      "name": "python3"
    },
    "language_info": {
      "codemirror_mode": {
        "name": "ipython",
        "version": 3
      },
      "file_extension": ".py",
      "mimetype": "text/x-python",
      "name": "python",
      "nbconvert_exporter": "python",
      "pygments_lexer": "ipython3",
      "version": "3.12.7"
    }
  },
  "nbformat": 4,
  "nbformat_minor": 0
}